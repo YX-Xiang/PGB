{
 "cells": [
  {
   "cell_type": "code",
   "execution_count": 1,
   "id": "f72308a4-b6e0-4139-9c06-b79d99761dbb",
   "metadata": {},
   "outputs": [],
   "source": [
    "import os"
   ]
  },
  {
   "cell_type": "code",
   "execution_count": 12,
   "id": "e7ab53ef-c041-482f-b5b4-25192c3ff917",
   "metadata": {},
   "outputs": [],
   "source": [
    "def merge_files_with_suffix(folder_path, suffix_list):\n",
    "    for root, dirs, files in os.walk(folder_path):\n",
    "        merged_content = []\n",
    "        folder_name = os.path.basename(root)\n",
    "        file_num = 0\n",
    "        for file in files:\n",
    "            if file.endswith('.fa'):\n",
    "                file_name, file_ext = os.path.splitext(file)\n",
    "                file_path = os.path.join(root, file)\n",
    "                # 检查文件后缀是否在指定的后缀列表中\n",
    "                if any(file_name.endswith(suffix) for suffix in suffix_list):\n",
    "                    file_num += 1\n",
    "                    with open(file_path, 'r') as f:\n",
    "                        merged_content.extend(f.readlines())\n",
    "                    merged_content.append('\\n')\n",
    "        # 写入合并后的内容到一个新文件\n",
    "        if merged_content:\n",
    "            if file_num == len(suffix_list):\n",
    "                print(folder_name)\n",
    "                merged_file_path = os.path.join(root, f'{folder_name}_chroms.fa')\n",
    "                with open(merged_file_path, 'w') as merged_file:\n",
    "                    merged_file.writelines(merged_content)\n",
    "            else:\n",
    "                 print(f\"{folder_name} misses files!\")"
   ]
  },
  {
   "cell_type": "code",
   "execution_count": 15,
   "id": "ceaff722-acbe-4611-9d89-2d2e7317a4b9",
   "metadata": {},
   "outputs": [
    {
     "name": "stdout",
     "output_type": "stream",
     "text": [
      "GCA_902460295.1\n",
      "reference\n",
      "GCA_902460285.1\n",
      "GCA_902460275.1\n",
      "GCA_903064275.1\n",
      "GCA_900660825.1\n",
      "GCA_902460305.1\n",
      "GCA_903064285.1\n",
      "GCA_903064295.1\n",
      "GCA_902460265.3\n",
      "GCA_001651475.1\n"
     ]
    }
   ],
   "source": [
    "folder_path = '/home/yxxiang/data/pangenome/benchmark/data/arabidopsis_thaliana/raw'\n",
    "suffix_list = ['_1', '_2', '_3', '_4', '_5']\n",
    "# folder_path ='/home/yxxiang/data/pangenome/benchmark/data/drosophila_melanogaster/raw'\n",
    "# suffix_list = ['_X', '_2L', '_2R', '_3L', '_3R', '_4']\n",
    "# folder_path = '/home/yxxiang/data/pangenome/benchmark/data/homo_sapiens/raw'\n",
    "# suffix_list = ['_1', '_2', '_3', '_4', '_5', '_6', '_7', '_8', '_9', '_10', '_11', '_12', '_13', '_14', '_15', '_16', '_17', '_18', '_19', '_20', '_21', '_22', '_X']\n",
    "\n",
    "merge_files_with_suffix(folder_path, suffix_list)"
   ]
  },
  {
   "cell_type": "code",
   "execution_count": null,
   "id": "3c67cef3-3a83-492e-83a5-6334f29c6417",
   "metadata": {},
   "outputs": [],
   "source": []
  }
 ],
 "metadata": {
  "kernelspec": {
   "display_name": "Python 3 (ipykernel)",
   "language": "python",
   "name": "python3"
  },
  "language_info": {
   "codemirror_mode": {
    "name": "ipython",
    "version": 3
   },
   "file_extension": ".py",
   "mimetype": "text/x-python",
   "name": "python",
   "nbconvert_exporter": "python",
   "pygments_lexer": "ipython3",
   "version": "3.11.7"
  }
 },
 "nbformat": 4,
 "nbformat_minor": 5
}
