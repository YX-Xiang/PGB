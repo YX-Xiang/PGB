{
 "cells": [
  {
   "cell_type": "code",
   "execution_count": 1,
   "id": "482e5920-9fed-46d9-8d5d-75112064eac1",
   "metadata": {},
   "outputs": [],
   "source": [
    "import os"
   ]
  },
  {
   "cell_type": "code",
   "execution_count": 5,
   "id": "1c820666-1297-4076-8261-7373277494d2",
   "metadata": {},
   "outputs": [],
   "source": [
    "def process_directory(directory):\n",
    "    for root, dirs, files in os.walk(directory):\n",
    "        for file in files:\n",
    "            if file == \"chromosome_catalogue.txt\":\n",
    "                xy_list = [] \n",
    "                catalogue_path = os.path.join(root, file)\n",
    "                xy_list = read_catalogue(catalogue_path)\n",
    "                process_fna_files(directory, xy_list) "
   ]
  },
  {
   "cell_type": "code",
   "execution_count": 13,
   "id": "fc6881e0-3700-4ddd-afce-0be14659d062",
   "metadata": {},
   "outputs": [],
   "source": [
    "def read_catalogue(catalogue_path):\n",
    "    xy_list = []\n",
    "    with open(catalogue_path, 'r') as catalogue_file:\n",
    "        for line in catalogue_file:\n",
    "            line = line.strip()\n",
    "            if line:\n",
    "                parts = line.split()\n",
    "                if len(parts) == 2:\n",
    "                    xy_list.append((parts[0], parts[1]))\n",
    "                else:\n",
    "                    print(f\"Ignoring invalid line in {catalogue_path}: {line}\")\n",
    "    return xy_list"
   ]
  },
  {
   "cell_type": "code",
   "execution_count": 7,
   "id": "5b11e6c6-c3d2-48ad-84a3-9e0e7fd1be24",
   "metadata": {},
   "outputs": [],
   "source": [
    "def process_fna_files(directory, xy_list):\n",
    "    for root, dirs, files in os.walk(directory):\n",
    "        for file in files:\n",
    "            if file.endswith('.fna'):\n",
    "                fna_path = os.path.join(root, file)\n",
    "                process_fna(fna_path, xy_list)"
   ]
  },
  {
   "cell_type": "code",
   "execution_count": 33,
   "id": "82942e00-19b6-4a6c-8efc-a4b80d203a93",
   "metadata": {},
   "outputs": [],
   "source": [
    "def process_fna(fna_path, xy_list):\n",
    "    with open(fna_path, 'r') as fna:\n",
    "        sequences = fna.read().split('>')\n",
    "        for sequence in sequences:\n",
    "            sequence_parts = sequence.split('\\n', 1)\n",
    "            header = sequence_parts[0].strip()\n",
    "            for x, y in xy_list:\n",
    "                if y in header:\n",
    "                    sequence_data = ''.join(sequence_parts[1:]).strip()\n",
    "                    # parts = os.path.basename(fna_path).split('_')\n",
    "                    # new_file_name = parts[0] + '_' + parts[1] + '_' + x + '.fa'\n",
    "                    parts = os.path.basename(fna_path).split('.')\n",
    "                    new_file_name = parts[0] + '.' + parts[1] + '_' + x + '.fa'\n",
    "                    new_file_path = os.path.join(os.path.dirname(fna_path), new_file_name)\n",
    "                    with open(new_file_path, 'w') as new_file:\n",
    "                        new_file.write('>' + header + '\\n' + sequence_data)"
   ]
  },
  {
   "cell_type": "code",
   "execution_count": 30,
   "id": "50a9c49b-0f97-4639-9380-5577195f6d77",
   "metadata": {},
   "outputs": [],
   "source": [
    "# directory_path = '/home/yxxiang/data/pangenome/benchmark/data/drosophila_melanogaster/raw'\n",
    "# directory_path = '/home/yxxiang/data/pangenome/benchmark/data/arabidopsis_thaliana/raw'\n",
    "directory_path = '/home/yxxiang/data/pangenome/benchmark/data/homo_sapiens/raw'\n",
    "process_directory(directory_path)"
   ]
  },
  {
   "cell_type": "code",
   "execution_count": 35,
   "id": "df4ec2be-9bba-44d3-aa95-1025e6cf9af2",
   "metadata": {},
   "outputs": [],
   "source": [
    "# xy_list = [] \n",
    "# catalogue_path = \"/home/yxxiang/data/pangenome/benchmark/data/arabidopsis_thaliana/raw/GCA_903064295.1/chromosome_catalogue.txt\"\n",
    "# xy_list = read_catalogue(catalogue_path)\n",
    "# folder_path = '/home/yxxiang/data/pangenome/benchmark/data/arabidopsis_thaliana/raw/GCA_903064295.1'\n",
    "# for file in os.listdir(folder_path):\n",
    "#     if file.endswith('.fna'):\n",
    "#         fna_path = os.path.join(folder_path, file)\n",
    "#         process_fna(fna_path, xy_list)"
   ]
  },
  {
   "cell_type": "code",
   "execution_count": null,
   "id": "9ac271e1-690d-4f5d-87dc-bf656f61c579",
   "metadata": {},
   "outputs": [],
   "source": []
  }
 ],
 "metadata": {
  "kernelspec": {
   "display_name": "Python 3 (ipykernel)",
   "language": "python",
   "name": "python3"
  },
  "language_info": {
   "codemirror_mode": {
    "name": "ipython",
    "version": 3
   },
   "file_extension": ".py",
   "mimetype": "text/x-python",
   "name": "python",
   "nbconvert_exporter": "python",
   "pygments_lexer": "ipython3",
   "version": "3.11.7"
  }
 },
 "nbformat": 4,
 "nbformat_minor": 5
}
