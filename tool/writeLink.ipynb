{
 "cells": [
  {
   "cell_type": "code",
   "execution_count": 1,
   "id": "6af1c00a-f0d2-42c9-8235-18f660c4ca58",
   "metadata": {},
   "outputs": [],
   "source": [
    "import os"
   ]
  },
  {
   "cell_type": "code",
   "execution_count": 2,
   "id": "0879cf77-b63a-4413-843a-9637628f4d6c",
   "metadata": {},
   "outputs": [],
   "source": [
    "def write_pggb_link(folder_path):\n",
    "    pggb_link = folder_path + '/pggb_link.txt'\n",
    "    with open(pggb_link, \"w\") as f:\n",
    "        for root, dirs, files in os.walk(folder_path):\n",
    "            for file in files:\n",
    "                if file.endswith(\".fa\"):\n",
    "                    file_path = os.path.join(root, file)\n",
    "                    f.write(file_path + \"\\n\")"
   ]
  },
  {
   "cell_type": "code",
   "execution_count": 3,
   "id": "c5c14b9e-9b94-4557-83b2-0946f7cdbc5b",
   "metadata": {},
   "outputs": [],
   "source": [
    "def write_mc_link(folder_path):\n",
    "    mc_link = folder_path + '/mc_link.txt'\n",
    "    with open(mc_link, \"w\") as f:\n",
    "        for root, dirs, files in os.walk(folder_path):\n",
    "            for file in files:\n",
    "                if file.endswith(\".fa\"):\n",
    "                    parts = os.path.basename(file).split('_')\n",
    "                    file_name = parts[0] + '_' + parts[1]\n",
    "                    file_path = os.path.join(root, file)\n",
    "                    f.write(file_name + '\\t' + file_path + \"\\n\")"
   ]
  },
  {
   "cell_type": "code",
   "execution_count": 10,
   "id": "cd0023b4-046c-40f3-b904-caf700a0e108",
   "metadata": {},
   "outputs": [],
   "source": [
    "# folder_path = \"/home/yxxiang/data/pangenome/benchmark/data/drosophila_melanogaster/dataset_3\"\n",
    "# folder_path = '/home/yxxiang/data/pangenome/benchmark/data/arabidopsis_thaliana/dataset_5'\n",
    "folder_path = '/home/yxxiang/data/pangenome/benchmark/data/homo_sapiens/dataset_8'\n",
    "\n",
    "write_pggb_link(folder_path)\n",
    "write_mc_link(folder_path)"
   ]
  },
  {
   "cell_type": "code",
   "execution_count": null,
   "id": "2ced38c0-f547-42f0-bb6a-74e9d3561c35",
   "metadata": {},
   "outputs": [],
   "source": []
  }
 ],
 "metadata": {
  "kernelspec": {
   "display_name": "Python 3 (ipykernel)",
   "language": "python",
   "name": "python3"
  },
  "language_info": {
   "codemirror_mode": {
    "name": "ipython",
    "version": 3
   },
   "file_extension": ".py",
   "mimetype": "text/x-python",
   "name": "python",
   "nbconvert_exporter": "python",
   "pygments_lexer": "ipython3",
   "version": "3.11.7"
  }
 },
 "nbformat": 4,
 "nbformat_minor": 5
}
